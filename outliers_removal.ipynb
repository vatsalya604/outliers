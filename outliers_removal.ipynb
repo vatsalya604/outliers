{
 "cells": [
  {
   "cell_type": "code",
   "execution_count": 1,
   "id": "4e023197",
   "metadata": {},
   "outputs": [],
   "source": [
    "##outliers"
   ]
  },
  {
   "cell_type": "code",
   "execution_count": 2,
   "id": "3e461d7f",
   "metadata": {},
   "outputs": [],
   "source": [
    "import numpy as np\n",
    "import matplotlib.pyplot as plt\n",
    "%matplotlib inline"
   ]
  },
  {
   "cell_type": "code",
   "execution_count": 3,
   "id": "33428ba5",
   "metadata": {},
   "outputs": [],
   "source": [
    "# define our dataset\n",
    "dataset=[11,10,12,14,12,15,14,13,15,102,12,14,17,19,107,10,13,12,14,12,108,12,11,14,13,15,10,15,12,10,14,13,15,10]\n"
   ]
  },
  {
   "cell_type": "code",
   "execution_count": 4,
   "id": "6d0abbaf",
   "metadata": {},
   "outputs": [
    {
     "data": {
      "text/plain": [
       "(array([31.,  0.,  0.,  0.,  0.,  0.,  0.,  0.,  0.,  3.]),\n",
       " array([ 10. ,  19.8,  29.6,  39.4,  49.2,  59. ,  68.8,  78.6,  88.4,\n",
       "         98.2, 108. ]),\n",
       " <BarContainer object of 10 artists>)"
      ]
     },
     "execution_count": 4,
     "metadata": {},
     "output_type": "execute_result"
    },
    {
     "data": {
      "image/png": "[encoded data removed]",
      "text/plain": [
       "<Figure size 432x288 with 1 Axes>"
      ]
     },
     "metadata": {
      "needs_background": "light"
     },
     "output_type": "display_data"
    }
   ],
   "source": [
    "plt.hist(dataset)"
   ]
  },
  {
   "cell_type": "code",
   "execution_count": 5,
   "id": "30850b6d",
   "metadata": {},
   "outputs": [],
   "source": [
    "#z_score\n",
    "outliers=[]\n",
    "def detect_outliers(data):\n",
    "    threshold=3\n",
    "    mean=np.mean(data)\n",
    "    std=np.std(data)\n",
    "    \n",
    "    for i in data:\n",
    "        z_score=(i-mean)/std\n",
    "        if np.abs(z_score)>threshold:\n",
    "            outliers.append(i)\n",
    "        \n",
    "    return outliers"
   ]
  },
  {
   "cell_type": "code",
   "execution_count": 6,
   "id": "1e77f014",
   "metadata": {},
   "outputs": [
    {
     "name": "stdout",
     "output_type": "stream",
     "text": [
      "[]\n"
     ]
    }
   ],
   "source": [
    "print(outliers)"
   ]
  },
  {
   "cell_type": "code",
   "execution_count": 7,
   "id": "9062df90",
   "metadata": {},
   "outputs": [
    {
     "data": {
      "text/plain": [
       "[102, 107, 108]"
      ]
     },
     "execution_count": 7,
     "metadata": {},
     "output_type": "execute_result"
    }
   ],
   "source": [
    "detect_outliers(dataset)"
   ]
  },
  {
   "cell_type": "code",
   "execution_count": 8,
   "id": "d83c1710",
   "metadata": {},
   "outputs": [
    {
     "data": {
      "text/plain": [
       "array([ 10,  10,  10,  10,  10,  11,  11,  12,  12,  12,  12,  12,  12,\n",
       "        12,  13,  13,  13,  13,  14,  14,  14,  14,  14,  14,  15,  15,\n",
       "        15,  15,  15,  17,  19, 102, 107, 108])"
      ]
     },
     "execution_count": 8,
     "metadata": {},
     "output_type": "execute_result"
    }
   ],
   "source": [
    "#iqr\n",
    "\n",
    "np.sort(dataset)"
   ]
  },
  {
   "cell_type": "code",
   "execution_count": 9,
   "id": "87fd5db5",
   "metadata": {},
   "outputs": [],
   "source": [
    "q1,q3=np.percentile(dataset,[25,75])"
   ]
  },
  {
   "cell_type": "code",
   "execution_count": 10,
   "id": "3ff16f31",
   "metadata": {},
   "outputs": [
    {
     "name": "stdout",
     "output_type": "stream",
     "text": [
      "12.0 15.0\n"
     ]
    }
   ],
   "source": [
    "print(q1,q3)"
   ]
  },
  {
   "cell_type": "code",
   "execution_count": 11,
   "id": "3f889ddb",
   "metadata": {},
   "outputs": [],
   "source": [
    "iqr=q3-q1"
   ]
  },
  {
   "cell_type": "code",
   "execution_count": 12,
   "id": "dc065039",
   "metadata": {},
   "outputs": [
    {
     "name": "stdout",
     "output_type": "stream",
     "text": [
      "3.0\n"
     ]
    }
   ],
   "source": [
    "print(iqr)"
   ]
  },
  {
   "cell_type": "code",
   "execution_count": 13,
   "id": "ad2d238a",
   "metadata": {},
   "outputs": [],
   "source": [
    "lower_fence=q1-(1.5*iqr)\n",
    "upper_fence=q3+(1.5*iqr)"
   ]
  },
  {
   "cell_type": "code",
   "execution_count": 14,
   "id": "6c885f98",
   "metadata": {},
   "outputs": [
    {
     "name": "stdout",
     "output_type": "stream",
     "text": [
      "7.5 19.5\n"
     ]
    }
   ],
   "source": [
    "print(lower_fence,upper_fence)"
   ]
  },
  {
   "cell_type": "code",
   "execution_count": 15,
   "id": "1393a6fa",
   "metadata": {},
   "outputs": [],
   "source": [
    "outlier=[]\n",
    "for i in dataset:\n",
    "    if lower_fence>i or i>upper_fence:\n",
    "        outlier.append(i)\n",
    "        "
   ]
  },
  {
   "cell_type": "code",
   "execution_count": 16,
   "id": "42c8b46e",
   "metadata": {},
   "outputs": [
    {
     "name": "stdout",
     "output_type": "stream",
     "text": [
      "[102, 107, 108]\n"
     ]
    }
   ],
   "source": [
    "print(outlier)"
   ]
  }
 ],
 "metadata": {
  "kernelspec": {
   "display_name": "Python 3 (ipykernel)",
   "language": "python",
   "name": "python3"
  },
  "language_info": {
   "codemirror_mode": {
    "name": "ipython",
    "version": 3
   },
   "file_extension": ".py",
   "mimetype": "text/x-python",
   "name": "python",
   "nbconvert_exporter": "python",
   "pygments_lexer": "ipython3",
   "version": "3.9.7"
  }
 },
 "nbformat": 4,
 "nbformat_minor": 5
}
